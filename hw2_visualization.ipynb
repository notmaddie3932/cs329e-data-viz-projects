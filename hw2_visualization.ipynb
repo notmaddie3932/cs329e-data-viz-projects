{
 "cells": [
  {
   "cell_type": "markdown",
   "metadata": {},
   "source": [
    "# UFO report by < your eid here \\>\n",
    "Modify this cell by placing your eid in the space above. "
   ]
  },
  {
   "cell_type": "markdown",
   "metadata": {},
   "source": [
    "## Homework 1\n",
    "You are a UFO researcher and have just obtained some **TOP SECRET** government data. The data contain sighting information including location, shape and source of the information. Use your pandas skills to investigate the data. Turn in this notebook as your report. Follow the directions and answer the questions. Edit the code cells to create pandas and matplotlib solutions to the questions. The first cell loads the data into a data frame called `df_sightings`. The rest is up to you.\n",
    "\n",
    "The truth is out there..."
   ]
  },
  {
   "cell_type": "code",
   "execution_count": null,
   "metadata": {},
   "outputs": [],
   "source": [
    "# this cell loads the ufo data (the file should be in the same directory as this notebook)\n",
    "import pandas as pd\n",
    "import numpy as np\n",
    "import matplotlib.pyplot as plt\n",
    "#\n",
    "filename = 'ufo_location_shape.csv'\n",
    "df_sightings = pd.read_csv(filename)\n",
    "df_sightings.head()"
   ]
  },
  {
   "cell_type": "markdown",
   "metadata": {},
   "source": [
    "## Data Exploration\n",
    "\n",
    "Answer the following questions about the data in the csv file.  Your answer should be readable, and the only number in the output for the cell.\n",
    "\n",
    "<p>How large is the data? How many rows and columns are there? What are the column names or keys?Use the cell below to create python code that prints the answer to the question</p>\n",
    "This question is worth 1 pt."
   ]
  },
  {
   "cell_type": "markdown",
   "metadata": {},
   "source": [
    "### Question 1\n",
    "\n",
    "How many sightings are in the `df_sightings`? "
   ]
  },
  {
   "cell_type": "code",
   "execution_count": null,
   "metadata": {},
   "outputs": [],
   "source": [
    "# your code here"
   ]
  },
  {
   "cell_type": "markdown",
   "metadata": {},
   "source": [
    "### Question 2 \n",
    "\n",
    "How many columns are there in the `df_sightings`? "
   ]
  },
  {
   "cell_type": "code",
   "execution_count": null,
   "metadata": {},
   "outputs": [],
   "source": [
    "# your code here"
   ]
  },
  {
   "cell_type": "markdown",
   "metadata": {},
   "source": [
    "### Question 3\n",
    "\n",
    "What are the column names?  Format the output such that there is one column name per line."
   ]
  },
  {
   "cell_type": "code",
   "execution_count": null,
   "metadata": {},
   "outputs": [],
   "source": [
    "# your code here"
   ]
  },
  {
   "cell_type": "markdown",
   "metadata": {},
   "source": [
    "### Question 4\n",
    "\n",
    "List the unique countries where sightings occurred. Format the output such that there is one country name  per line. Only list valid countries (invalid country names will be easy to spot). \n",
    "\n",
    "You will notice our old friend from the tutorial pop up, `nan`.  By default when you read in a csv file, any of the following values in cells are filled with the numpy `nan` value:  ‘’, ‘#N/A’, ‘#N/A N/A’, ‘#NA’, ‘-1.#IND’, ‘-1.#QNAN’, ‘-NaN’, ‘-nan’, ‘1.#IND’, ‘1.#QNAN’, ‘<NA>’, ‘N/A’, ‘NA’, ‘NULL’, ‘NaN’, ‘n/a’, ‘nan’, ‘null’.\n",
    "    \n",
    "You can drop `nan` from a series using the `dropna` [method](https://pandas.pydata.org/pandas-docs/stable/reference/api/pandas.Series.dropna.html). \n",
    "    \n",
    "Use the iterator [iteritems](https://pandas.pydata.org/pandas-docs/stable/reference/api/pandas.Series.iteritems.html) to loop through a series. Use the function [drop_duplicates](https://pandas.pydata.org/pandas-docs/stable/reference/api/pandas.Series.drop_duplicates.html) to remove duplicates from a series. \n"
   ]
  },
  {
   "cell_type": "code",
   "execution_count": null,
   "metadata": {},
   "outputs": [],
   "source": [
    "# your code here"
   ]
  },
  {
   "cell_type": "markdown",
   "metadata": {},
   "source": [
    "### Question 5\n",
    "\n",
    "For only sightings that occurred in the USA, list the unique state names. Format the output such that there is one US State name per line."
   ]
  },
  {
   "cell_type": "code",
   "execution_count": null,
   "metadata": {},
   "outputs": [],
   "source": [
    "# your code here"
   ]
  },
  {
   "cell_type": "markdown",
   "metadata": {},
   "source": [
    "### Question 6\n",
    "\n",
    "List the different observed UFO shapes and the number of times that they occur in the data frame (hint see [value_counts](https://pandas.pydata.org/pandas-docs/stable/reference/api/pandas.Series.value_counts.html). The answer will be in text format with one type of shape followed by the number of occurances per line. "
   ]
  },
  {
   "cell_type": "code",
   "execution_count": null,
   "metadata": {},
   "outputs": [],
   "source": [
    "# your code here"
   ]
  },
  {
   "cell_type": "markdown",
   "metadata": {},
   "source": [
    "### Question 7\n",
    "\n",
    "Create a bar chart showing the number of sightings in each country. The x axis should be country and the y axis should be number of sightings.\n",
    "        \n",
    "Your axis should be legible, and labeled correctly.\n",
    "\n",
    "Sort the countries by most sightings, to least sightings.  For the top three countries, annotate the bar chart to show the number of sightings, and adjust the y limits such that you are only showing the detail from 0-16 sightings. \n",
    "\n",
    "There are multiple ways to solve this, and I used [figure](https://matplotlib.org/3.3.3/api/_as_gen/matplotlib.pyplot.figure.html) to adjust the size of my plot, [ylim](https://matplotlib.org/3.3.3/api/_as_gen/matplotlib.pyplot.ylim.html) to control the y limits of the histogram, [value_counts](https://pandas.pydata.org/pandas-docs/stable/reference/api/pandas.Series.value_counts.html) to create the data, [bar](https://matplotlib.org/3.3.3/api/_as_gen/matplotlib.pyplot.bar.html) to chart the data, [xticks](https://matplotlib.org/3.3.3/api/_as_gen/matplotlib.pyplot.xticks.html#matplotlib.pyplot.xticks) to set the tick labels, [arrange](https://numpy.org/doc/stable/reference/generated/numpy.arange.html) to create x coordinates for the countries and control the tick locations, [text](https://matplotlib.org/3.3.3/api/_as_gen/matplotlib.pyplot.text.html) to annotate the graph for the top three country sighting counts, and [ylabel](https://matplotlib.org/3.3.3/api/_as_gen/matplotlib.pyplot.ylabel.html) [title](https://matplotlib.org/3.3.3/api/_as_gen/matplotlib.pyplot.title.html) to set the ylabel and title of the plot.  "
   ]
  },
  {
   "cell_type": "code",
   "execution_count": null,
   "metadata": {},
   "outputs": [],
   "source": [
    "# your code here"
   ]
  },
  {
   "cell_type": "markdown",
   "metadata": {},
   "source": [
    "### Question 8\n",
    "\n",
    "Create a stacked bar chart showing the top 7 UFO shapes for the ten states with the highest number of sightings. Start by finding the ten states with the highest number of sightings. Given those 10 states, find the top 7 most frequent UFO shapes. Then for each state plot a stacked bar where each color of the stack corresponds to the number of sightings in that state for a particular UFO shape. Label the x-axis with the State abbreviation. \n",
    "\n",
    "There is an [example](https://matplotlib.org/3.2.2/gallery/lines_bars_and_markers/bar_stacked.html) of a stacked bar chart available in the documentation. \n",
    "\n",
    "Use the color brewer website from the class slides to pick 7 colors to override the matplotlib defaults for the bars."
   ]
  },
  {
   "cell_type": "code",
   "execution_count": null,
   "metadata": {},
   "outputs": [],
   "source": [
    "# your code here (feel free to make more cells if it makes things easier for you ... the problem has multiple steps)"
   ]
  }
 ],
 "metadata": {
  "kernelspec": {
   "display_name": "Python 3",
   "language": "python",
   "name": "python3"
  },
  "language_info": {
   "codemirror_mode": {
    "name": "ipython",
    "version": 3
   },
   "file_extension": ".py",
   "mimetype": "text/x-python",
   "name": "python",
   "nbconvert_exporter": "python",
   "pygments_lexer": "ipython3",
   "version": "3.8.3"
  }
 },
 "nbformat": 4,
 "nbformat_minor": 2
}
